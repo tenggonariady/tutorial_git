{
 "cells": [
  {
   "cell_type": "code",
   "execution_count": 2,
   "id": "1a37f128-b180-41cc-a0c5-2bf72fc856ab",
   "metadata": {
    "tags": []
   },
   "outputs": [
    {
     "name": "stdout",
     "output_type": "stream",
     "text": [
      "Hello Goodbye\n"
     ]
    }
   ],
   "source": [
    "print('Hello Goodbye')"
   ]
  },
  {
   "cell_type": "code",
   "execution_count": null,
   "id": "c51e0338-d9f8-4ed2-8036-57e8558cfbf2",
   "metadata": {},
   "outputs": [],
   "source": []
  }
 ],
 "metadata": {
  "kernelspec": {
   "display_name": "Python 3 (ipykernel)",
   "language": "python",
   "name": "python3"
  },
  "language_info": {
   "codemirror_mode": {
    "name": "ipython",
    "version": 3
   },
   "file_extension": ".py",
   "mimetype": "text/x-python",
   "name": "python",
   "nbconvert_exporter": "python",
   "pygments_lexer": "ipython3",
   "version": "3.11.5"
  }
 },
 "nbformat": 4,
 "nbformat_minor": 5
}
